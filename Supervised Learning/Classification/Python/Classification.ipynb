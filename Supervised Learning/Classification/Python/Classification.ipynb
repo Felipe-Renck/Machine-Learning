{
    "cells": [
        {
            "cell_type": "code",
            "execution_count": null,
            "source": [
                "import os\n",
                "import tensorflow as tf"
            ],
            "outputs": [],
            "metadata": {}
        },
        {
            "cell_type": "code",
            "execution_count": null,
            "source": [
                "train_dataset_url = \"https://storage.googleapis.com/download.tensorflow.org/data/iris_training.csv\"\n",
                "\n",
                "train_dataset_fp = tf.keras.utils.get_file(fname=os.path.basename(train_dataset_url),\n",
                "                                           origin=train_dataset_url)\n"
            ],
            "outputs": [],
            "metadata": {}
        },
        {
            "cell_type": "code",
            "execution_count": null,
            "source": [
                "# column order in CSV file\n",
                "column_names = ['sepal_length', 'sepal_width',\n",
                "                'petal_length', 'petal_width', 'species']\n",
                "\n",
                "feature_names = column_names[:-1]\n",
                "label_name = column_names[-1]\n",
                "class_names = ['Iris setosa', 'Iris versicolor', 'Iris virginica']"
            ],
            "outputs": [],
            "metadata": {}
        },
        {
            "cell_type": "code",
            "execution_count": null,
            "source": [
                "batch_size = 32\n",
                "\n",
                "train_dataset = tf.data.experimental.make_csv_dataset(\n",
                "    train_dataset_fp,\n",
                "    batch_size,\n",
                "    column_names=column_names,\n",
                "    label_name=label_name,\n",
                "    num_epochs=1)\n"
            ],
            "outputs": [],
            "metadata": {}
        },
        {
            "cell_type": "code",
            "execution_count": null,
            "source": [
                "def pack_features_vector(features, labels):\n",
                "    \"\"\"Pack the features into a single array.\"\"\"\n",
                "    features = tf.stack(list(features.values()), axis=1)\n",
                "    return features, labels"
            ],
            "outputs": [],
            "metadata": {}
        },
        {
            "cell_type": "code",
            "execution_count": null,
            "source": [
                "train_dataset = train_dataset.map(pack_features_vector)"
            ],
            "outputs": [],
            "metadata": {}
        },
        {
            "cell_type": "code",
            "execution_count": null,
            "source": [
                "test_url = \"https://storage.googleapis.com/download.tensorflow.org/data/iris_test.csv\"\n",
                "\n",
                "test_fp = tf.keras.utils.get_file(fname=os.path.basename(test_url),\n",
                "                                  origin=test_url)\n",
                "\n",
                "test_dataset = tf.data.experimental.make_csv_dataset(\n",
                "    test_fp,\n",
                "    batch_size,\n",
                "    column_names=column_names,\n",
                "    label_name='species',\n",
                "    num_epochs=1,\n",
                "    shuffle=False)\n",
                "\n",
                "test_dataset = test_dataset.map(pack_features_vector)"
            ],
            "outputs": [],
            "metadata": {}
        },
        {
            "cell_type": "code",
            "execution_count": null,
            "source": [
                "model = tf.keras.Sequential([\n",
                "    tf.keras.layers.InputLayer(input_shape=(4,)),\n",
                "    tf.keras.layers.Dense(10, activation=tf.nn.relu),\n",
                "    tf.keras.layers.Dense(10, activation=tf.nn.relu),\n",
                "    tf.keras.layers.Dense(3)\n",
                "])\n"
            ],
            "outputs": [],
            "metadata": {}
        },
        {
            "cell_type": "code",
            "execution_count": null,
            "source": [
                "model.compile(optimizer='adam',\n",
                "              loss=tf.keras.losses.SparseCategoricalCrossentropy(\n",
                "                  from_logits=True),\n",
                "              metrics=['accuracy'])\n",
                "\n",
                "model.fit(train_dataset,\n",
                "          epochs=200)\n",
                "\n",
                "loss, accuracy = model.evaluate(test_dataset)\n",
                "print(\"Accuracy\", accuracy)\n"
            ],
            "outputs": [],
            "metadata": {}
        },
        {
            "cell_type": "code",
            "execution_count": null,
            "source": [
                "predict_dataset = tf.convert_to_tensor([\n",
                "    [5.1, 3.3, 1.7, 0.5, ],\n",
                "    [5.9, 3.0, 4.2, 1.5, ],\n",
                "    [6.9, 3.1, 5.4, 2.1]\n",
                "])\n",
                "\n",
                "predictions = model(predict_dataset)\n",
                "\n",
                "for i, logits in enumerate(predictions):\n",
                "    class_idx = tf.argmax(logits).numpy()\n",
                "    p = tf.nn.softmax(logits)[class_idx]\n",
                "    name = class_names[class_idx]\n",
                "    print(\"Example {} prediction: {} {} ({:4.1f}%)\".format(\n",
                "        i, predictions[i], name, 100*p))\n"
            ],
            "outputs": [],
            "metadata": {}
        }
    ],
    "metadata": {
        "orig_nbformat": 4,
        "language_info": {
            "name": "python",
            "version": "3.9.6",
            "mimetype": "text/x-python",
            "codemirror_mode": {
                "name": "ipython",
                "version": 3
            },
            "pygments_lexer": "ipython3",
            "nbconvert_exporter": "python",
            "file_extension": ".py"
        },
        "kernelspec": {
            "name": "python3",
            "display_name": "Python 3.9.6 64-bit"
        },
        "interpreter": {
            "hash": "0dc4af0a26aababf747d3d94504417fcd5851fc9e8e7d41e042c435dc887891d"
        }
    },
    "nbformat": 4,
    "nbformat_minor": 2
}